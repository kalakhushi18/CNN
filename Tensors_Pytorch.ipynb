{
  "nbformat": 4,
  "nbformat_minor": 0,
  "metadata": {
    "colab": {
      "provenance": [],
      "authorship_tag": "ABX9TyN0jZo5SKhzpAYjIeSHRIp7",
      "include_colab_link": true
    },
    "kernelspec": {
      "name": "python3",
      "display_name": "Python 3"
    },
    "language_info": {
      "name": "python"
    }
  },
  "cells": [
    {
      "cell_type": "markdown",
      "metadata": {
        "id": "view-in-github",
        "colab_type": "text"
      },
      "source": [
        "<a href=\"https://colab.research.google.com/github/kalakhushi18/CNN-/blob/main/Tensors_Pytorch.ipynb\" target=\"_parent\"><img src=\"https://colab.research.google.com/assets/colab-badge.svg\" alt=\"Open In Colab\"/></a>"
      ]
    },
    {
      "cell_type": "code",
      "execution_count": 1,
      "metadata": {
        "id": "ZAxHmX1iY_PT"
      },
      "outputs": [],
      "source": [
        "import torch\n",
        "import torch.nn as nn"
      ]
    },
    {
      "cell_type": "code",
      "source": [
        "data = torch.tensor([1,2], dtype= torch.float32)  #list of items\n",
        "print(data)"
      ],
      "metadata": {
        "colab": {
          "base_uri": "https://localhost:8080/"
        },
        "id": "ZhaE_cnSKMQ3",
        "outputId": "2f256aa6-d0eb-4394-b5a3-bd0674f418be"
      },
      "execution_count": 3,
      "outputs": [
        {
          "output_type": "stream",
          "name": "stdout",
          "text": [
            "tensor([1., 2.])\n"
          ]
        }
      ]
    },
    {
      "cell_type": "code",
      "source": [
        "zeroes = torch.zeros(1,5)\n",
        "zeroes"
      ],
      "metadata": {
        "colab": {
          "base_uri": "https://localhost:8080/"
        },
        "id": "c53uvfu1K2KW",
        "outputId": "db091aae-4a72-4848-faf3-3585994da909"
      },
      "execution_count": 5,
      "outputs": [
        {
          "output_type": "execute_result",
          "data": {
            "text/plain": [
              "tensor([[0., 0., 0., 0., 0.]])"
            ]
          },
          "metadata": {},
          "execution_count": 5
        }
      ]
    },
    {
      "cell_type": "code",
      "source": [
        "ones = torch.ones(2,5)\n",
        "ones"
      ],
      "metadata": {
        "colab": {
          "base_uri": "https://localhost:8080/"
        },
        "id": "xQJodJM-Lu4Z",
        "outputId": "a2ac6eff-3a54-4e3f-822e-9d152cbfd930"
      },
      "execution_count": 7,
      "outputs": [
        {
          "output_type": "execute_result",
          "data": {
            "text/plain": [
              "tensor([[1., 1., 1., 1., 1.],\n",
              "        [1., 1., 1., 1., 1.]])"
            ]
          },
          "metadata": {},
          "execution_count": 7
        }
      ]
    },
    {
      "cell_type": "code",
      "source": [
        "ones.shape"
      ],
      "metadata": {
        "colab": {
          "base_uri": "https://localhost:8080/"
        },
        "id": "fqMzGvcPL5iI",
        "outputId": "c78909fe-81b0-4d9f-ebd7-93aa611d5ec4"
      },
      "execution_count": 8,
      "outputs": [
        {
          "output_type": "execute_result",
          "data": {
            "text/plain": [
              "torch.Size([2, 5])"
            ]
          },
          "metadata": {},
          "execution_count": 8
        }
      ]
    },
    {
      "cell_type": "code",
      "source": [
        "r = torch.arange(1,6) #similar to range in arrays\n",
        "r"
      ],
      "metadata": {
        "colab": {
          "base_uri": "https://localhost:8080/"
        },
        "id": "sj5w-XnPL89A",
        "outputId": "46f94fc0-dcf0-4761-ebc3-bb5f7184b452"
      },
      "execution_count": 9,
      "outputs": [
        {
          "output_type": "execute_result",
          "data": {
            "text/plain": [
              "tensor([1, 2, 3, 4, 5])"
            ]
          },
          "metadata": {},
          "execution_count": 9
        }
      ]
    },
    {
      "cell_type": "code",
      "source": [
        "print(r+2)\n",
        "print(r*2)"
      ],
      "metadata": {
        "colab": {
          "base_uri": "https://localhost:8080/"
        },
        "id": "TAO1nBVEMOpF",
        "outputId": "fb591219-22ab-42aa-e7ea-136f9bf0e7f4"
      },
      "execution_count": 10,
      "outputs": [
        {
          "output_type": "stream",
          "name": "stdout",
          "text": [
            "tensor([3, 4, 5, 6, 7])\n",
            "tensor([ 2,  4,  6,  8, 10])\n"
          ]
        }
      ]
    },
    {
      "cell_type": "code",
      "source": [
        "a = torch.tensor([[1,2], [3,4], [5,6]]) # 3x2\n",
        "b= torch.tensor([[1,2,3,4], [5,6,1,8]]) # 2x4\n",
        "\n",
        "print(\"Mul is : \", a.matmul(b)) #3x4\n",
        "print(\"Withh operand:\", a @ b)"
      ],
      "metadata": {
        "colab": {
          "base_uri": "https://localhost:8080/"
        },
        "id": "PjcQRbcKMa1p",
        "outputId": "627c9832-bea4-498b-a502-58aa3fafe5aa"
      },
      "execution_count": 14,
      "outputs": [
        {
          "output_type": "stream",
          "name": "stdout",
          "text": [
            "Mul is :  tensor([[11, 14,  5, 20],\n",
            "        [23, 30, 13, 44],\n",
            "        [35, 46, 21, 68]])\n",
            "Withh operand: tensor([[11, 14,  5, 20],\n",
            "        [23, 30, 13, 44],\n",
            "        [35, 46, 21, 68]])\n"
          ]
        }
      ]
    },
    {
      "cell_type": "markdown",
      "source": [],
      "metadata": {
        "id": "22c9HuPsNikv"
      }
    },
    {
      "cell_type": "markdown",
      "source": [
        "Pytorch can reshape the tensors for certain operations execution, so if you get the error in pytorch it could be different, but you have to make sure to check each time the shape when you perform a matrix operation, because shapes in tensor usually throws error."
      ],
      "metadata": {
        "id": "QTjhnQAGPEtW"
      }
    },
    {
      "cell_type": "code",
      "source": [
        "#printing shape of all tensors is the main idea behind debugging"
      ],
      "metadata": {
        "id": "IZABHDbENgoJ"
      },
      "execution_count": null,
      "outputs": []
    },
    {
      "cell_type": "markdown",
      "source": [
        "Why reshaping is imp?\n",
        "When you will have a long list of data you need to work with it in batches and thus you need to reshape the tensors to work in batches, or sequences of sentenses"
      ],
      "metadata": {
        "id": "dM3W1jeBP98K"
      }
    },
    {
      "cell_type": "code",
      "source": [
        "demo = torch.arange(1,10)\n",
        "demo.shape"
      ],
      "metadata": {
        "colab": {
          "base_uri": "https://localhost:8080/"
        },
        "id": "F3j5h6y_Pg2e",
        "outputId": "901e0326-bc35-48d9-f7af-ed625595f121"
      },
      "execution_count": 15,
      "outputs": [
        {
          "output_type": "execute_result",
          "data": {
            "text/plain": [
              "torch.Size([9])"
            ]
          },
          "metadata": {},
          "execution_count": 15
        }
      ]
    },
    {
      "cell_type": "code",
      "source": [
        "#reshping\n",
        "demo.reshape((3,3))"
      ],
      "metadata": {
        "colab": {
          "base_uri": "https://localhost:8080/"
        },
        "id": "R9UwGP-lQhsu",
        "outputId": "d1cca6d2-4d29-441a-cab7-184571574088"
      },
      "execution_count": 19,
      "outputs": [
        {
          "output_type": "execute_result",
          "data": {
            "text/plain": [
              "tensor([[1, 2, 3],\n",
              "        [4, 5, 6],\n",
              "        [7, 8, 9]])"
            ]
          },
          "metadata": {},
          "execution_count": 19
        }
      ]
    },
    {
      "cell_type": "code",
      "source": [
        "oper_t = torch.arange(1,7).reshape(3,2)\n",
        "print(\"Tensor:\", oper_t)\n",
        "sum_oper = oper_t.sum(dim= 0) #summing is collapsing or reducing the size of tensor\n",
        "print(\"sum:\", sum_oper)"
      ],
      "metadata": {
        "colab": {
          "base_uri": "https://localhost:8080/"
        },
        "id": "G2j2t1nMQnSi",
        "outputId": "144704a5-392a-40f5-cca9-876d6fe88496"
      },
      "execution_count": 24,
      "outputs": [
        {
          "output_type": "stream",
          "name": "stdout",
          "text": [
            "Tensor: tensor([[1, 2],\n",
            "        [3, 4],\n",
            "        [5, 6]])\n",
            "sum: tensor([ 9, 12])\n"
          ]
        }
      ]
    },
    {
      "cell_type": "markdown",
      "source": [
        "Indexing: You can slice the tensor in multiplt different ways and get different tensors out of it, make sure of the shape."
      ],
      "metadata": {
        "id": "Z7VBh4trTz3d"
      }
    },
    {
      "cell_type": "markdown",
      "source": [
        "Autograd:\n",
        "It is actually storing all the nodes in gradients in forward and then in the backend the pytorch uses all these gradients to perform the chain rule in back propagation for optimizer.\n",
        "By default the gradient is stored is true. It accumulates the gradient. This is for computing the loss accorss our neural network."
      ],
      "metadata": {
        "id": "bXD7Qt4yUZvd"
      }
    },
    {
      "cell_type": "code",
      "source": [
        "x = torch.tensor([2], requires_grad=True, dtype = torch.float32)\n",
        "print(x.grad)"
      ],
      "metadata": {
        "colab": {
          "base_uri": "https://localhost:8080/"
        },
        "id": "DPKKB9ReRVa_",
        "outputId": "241c0ae6-9583-4ddd-9e49-4a023bbce797"
      },
      "execution_count": 30,
      "outputs": [
        {
          "output_type": "stream",
          "name": "stdout",
          "text": [
            "None\n"
          ]
        }
      ]
    },
    {
      "cell_type": "code",
      "source": [
        "z = x *x * 3\n",
        "z.backward()\n",
        "print(x.grad)\n",
        "\n",
        "# it accumulates every time"
      ],
      "metadata": {
        "colab": {
          "base_uri": "https://localhost:8080/"
        },
        "id": "fxiA05OMjcvw",
        "outputId": "7a68ee4d-6306-4c28-cf50-30f3ba167438"
      },
      "execution_count": 32,
      "outputs": [
        {
          "output_type": "stream",
          "name": "stdout",
          "text": [
            "tensor([24.])\n"
          ]
        }
      ]
    },
    {
      "cell_type": "code",
      "source": [
        "input = torch.tensor([2,3], dtype = torch.float32)\n",
        "\n",
        "linear = nn.Linear(2,1)\n",
        "\n",
        "linear_output = linear(input)\n",
        "linear_output"
      ],
      "metadata": {
        "colab": {
          "base_uri": "https://localhost:8080/"
        },
        "id": "PnaJSQJ5jp1r",
        "outputId": "ffac1768-3012-4ac0-da9d-47abf69a29c5"
      },
      "execution_count": 35,
      "outputs": [
        {
          "output_type": "execute_result",
          "data": {
            "text/plain": [
              "tensor([-1.7787], grad_fn=<ViewBackward0>)"
            ]
          },
          "metadata": {},
          "execution_count": 35
        }
      ]
    },
    {
      "cell_type": "code",
      "source": [
        "list(linear.parameters())\n",
        "\n",
        "# weight and bias, current values which will change as we train the neural network"
      ],
      "metadata": {
        "colab": {
          "base_uri": "https://localhost:8080/"
        },
        "id": "qAaLH1DamzEA",
        "outputId": "26e2cd68-fbed-4403-c4dd-3e8739153e04"
      },
      "execution_count": 38,
      "outputs": [
        {
          "output_type": "execute_result",
          "data": {
            "text/plain": [
              "[Parameter containing:\n",
              " tensor([[ 0.0456, -0.4741]], requires_grad=True),\n",
              " Parameter containing:\n",
              " tensor([-0.4477], requires_grad=True)]"
            ]
          },
          "metadata": {},
          "execution_count": 38
        }
      ]
    },
    {
      "cell_type": "code",
      "source": [
        "block = nn.Sequential(nn.Linear(2,1), nn.Sigmoid() )\n",
        "# input layer and output layer define\n",
        "input = torch.ones(1,2)\n",
        "output = block(input)\n",
        "output\n"
      ],
      "metadata": {
        "colab": {
          "base_uri": "https://localhost:8080/"
        },
        "id": "OsBZXqgCm1NK",
        "outputId": "7f880486-af98-4f6a-bec8-caacbd1f5760"
      },
      "execution_count": 39,
      "outputs": [
        {
          "output_type": "execute_result",
          "data": {
            "text/plain": [
              "tensor([[0.4006]], grad_fn=<SigmoidBackward0>)"
            ]
          },
          "metadata": {},
          "execution_count": 39
        }
      ]
    },
    {
      "cell_type": "code",
      "source": [
        "# Multilayer Perceptron"
      ],
      "metadata": {
        "id": "vKwffcXanxxS"
      },
      "execution_count": null,
      "outputs": []
    },
    {
      "cell_type": "code",
      "source": [
        "import torch.optim as optim\n",
        "# importing the optimizer"
      ],
      "metadata": {
        "id": "0rRTZ-aVoO_8"
      },
      "execution_count": 40,
      "outputs": []
    },
    {
      "cell_type": "code",
      "source": [],
      "metadata": {
        "id": "5nYKwQgDoR3u"
      },
      "execution_count": null,
      "outputs": []
    },
    {
      "cell_type": "code",
      "source": [],
      "metadata": {
        "id": "l_v1i0BKoRZI"
      },
      "execution_count": null,
      "outputs": []
    }
  ]
}